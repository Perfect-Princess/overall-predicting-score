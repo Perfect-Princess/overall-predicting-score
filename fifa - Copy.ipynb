{
 "nbformat": 4,
 "nbformat_minor": 0,
 "metadata": {
  "colab": {
   "name": "fifa.ipynb",
   "provenance": []
  },
  "kernelspec": {
   "display_name": "Python 3",
   "language": "python",
   "name": "python3"
  },
  "language_info": {
   "codemirror_mode": {
    "name": "ipython",
    "version": 3
   },
   "file_extension": ".py",
   "mimetype": "text/x-python",
   "name": "python",
   "nbconvert_exporter": "python",
   "pygments_lexer": "ipython3",
   "version": "3.8.8"
  }
 },
 "cells": [
  {
   "cell_type": "code",
   "metadata": {
    "id": "mo8lVDYxXZJy"
   },
   "source": [
    "import numpy as np # linear algebra\n",
    "import pandas as pd # data processing, CSV file I/O (e.g. pd.read_csv)\n",
    "import matplotlib.pyplot as plt\n",
    "%matplotlib inline\n",
    "from math import pi #Used in Radar Plots\n",
    "import seaborn as sns\n",
    "sns.set_style(style='darkgrid')\n",
    "import warnings\n",
    "warnings.filterwarnings('ignore')\n",
    "from sklearn.preprocessing import StandardScaler"
   ],
   "execution_count": 1,
   "outputs": []
  },
  {
   "cell_type": "code",
   "metadata": {
    "colab": {
     "base_uri": "https://localhost:8080/",
     "height": 878
    },
    "id": "y6saxrNVXZJ3",
    "outputId": "155ad423-7e11-446b-c5b9-59f1705e13a2"
   },
   "source": [
    "fifatest=pd.read_csv(\"./players_20.csv\")\n",
    "fifatest"
   ],
   "execution_count": 2,
   "outputs": [
    {
     "data": {
      "text/plain": "       sofifa_id                                         player_url  \\\n0         158023  https://sofifa.com/player/158023/lionel-messi/...   \n1          20801  https://sofifa.com/player/20801/c-ronaldo-dos-...   \n2         190871  https://sofifa.com/player/190871/neymar-da-sil...   \n3         200389  https://sofifa.com/player/200389/jan-oblak/20/...   \n4         183277  https://sofifa.com/player/183277/eden-hazard/2...   \n...          ...                                                ...   \n18273     245006  https://sofifa.com/player/245006/shuai-shao/20...   \n18274     250995  https://sofifa.com/player/250995/mingjie-xiao/...   \n18275     252332  https://sofifa.com/player/252332/wei-zhang/20/...   \n18276     251110  https://sofifa.com/player/251110/haijian-wang/...   \n18277     233449  https://sofifa.com/player/233449/ximing-pan/20...   \n\n              short_name                            long_name  age  \\\n0               L. Messi       Lionel Andrés Messi Cuccittini   32   \n1      Cristiano Ronaldo  Cristiano Ronaldo dos Santos Aveiro   34   \n2              Neymar Jr        Neymar da Silva Santos Junior   27   \n3               J. Oblak                            Jan Oblak   26   \n4              E. Hazard                          Eden Hazard   28   \n...                  ...                                  ...  ...   \n18273         Shao Shuai                                   邵帅   22   \n18274       Xiao Mingjie                         Mingjie Xiao   22   \n18275          Zhang Wei                                   张威   19   \n18276       Wang Haijian                                  汪海健   18   \n18277         Pan Ximing                                  潘喜明   26   \n\n              dob  height_cm  weight_kg nationality  \\\n0      1987-06-24        170         72   Argentina   \n1      1985-02-05        187         83    Portugal   \n2      1992-02-05        175         68      Brazil   \n3      1993-01-07        188         87    Slovenia   \n4      1991-01-07        175         74     Belgium   \n...           ...        ...        ...         ...   \n18273  1997-03-10        186         79    China PR   \n18274  1997-01-01        177         66    China PR   \n18275  2000-05-16        186         75    China PR   \n18276  2000-08-02        185         74    China PR   \n18277  1993-01-11        182         78    China PR   \n\n                                club  ...   lwb   ldm   cdm   rdm   rwb    lb  \\\n0                       FC Barcelona  ...  68+2  66+2  66+2  66+2  68+2  63+2   \n1                           Juventus  ...  65+3  61+3  61+3  61+3  65+3  61+3   \n2                Paris Saint-Germain  ...  66+3  61+3  61+3  61+3  66+3  61+3   \n3                    Atlético Madrid  ...   NaN   NaN   NaN   NaN   NaN   NaN   \n4                        Real Madrid  ...  66+3  63+3  63+3  63+3  66+3  61+3   \n...                              ...  ...   ...   ...   ...   ...   ...   ...   \n18273               Beijing Renhe FC  ...  43+2  42+2  42+2  42+2  43+2  45+2   \n18274               Shanghai SIPG FC  ...  44+2  43+2  43+2  43+2  44+2  46+2   \n18275         Hebei China Fortune FC  ...  47+2  49+2  49+2  49+2  47+2  47+2   \n18276  Shanghai Greenland Shenhua FC  ...  48+2  48+2  48+2  48+2  48+2  48+2   \n18277         Hebei China Fortune FC  ...  48+2  49+2  49+2  49+2  48+2  48+2   \n\n        lcb    cb   rcb    rb  \n0      52+2  52+2  52+2  63+2  \n1      53+3  53+3  53+3  61+3  \n2      46+3  46+3  46+3  61+3  \n3       NaN   NaN   NaN   NaN  \n4      49+3  49+3  49+3  61+3  \n...     ...   ...   ...   ...  \n18273  46+2  46+2  46+2  45+2  \n18274  47+2  47+2  47+2  46+2  \n18275  49+2  49+2  49+2  47+2  \n18276  49+2  49+2  49+2  48+2  \n18277  50+2  50+2  50+2  48+2  \n\n[18278 rows x 104 columns]",
      "text/html": "<div>\n<style scoped>\n    .dataframe tbody tr th:only-of-type {\n        vertical-align: middle;\n    }\n\n    .dataframe tbody tr th {\n        vertical-align: top;\n    }\n\n    .dataframe thead th {\n        text-align: right;\n    }\n</style>\n<table border=\"1\" class=\"dataframe\">\n  <thead>\n    <tr style=\"text-align: right;\">\n      <th></th>\n      <th>sofifa_id</th>\n      <th>player_url</th>\n      <th>short_name</th>\n      <th>long_name</th>\n      <th>age</th>\n      <th>dob</th>\n      <th>height_cm</th>\n      <th>weight_kg</th>\n      <th>nationality</th>\n      <th>club</th>\n      <th>...</th>\n      <th>lwb</th>\n      <th>ldm</th>\n      <th>cdm</th>\n      <th>rdm</th>\n      <th>rwb</th>\n      <th>lb</th>\n      <th>lcb</th>\n      <th>cb</th>\n      <th>rcb</th>\n      <th>rb</th>\n    </tr>\n  </thead>\n  <tbody>\n    <tr>\n      <th>0</th>\n      <td>158023</td>\n      <td>https://sofifa.com/player/158023/lionel-messi/...</td>\n      <td>L. Messi</td>\n      <td>Lionel Andrés Messi Cuccittini</td>\n      <td>32</td>\n      <td>1987-06-24</td>\n      <td>170</td>\n      <td>72</td>\n      <td>Argentina</td>\n      <td>FC Barcelona</td>\n      <td>...</td>\n      <td>68+2</td>\n      <td>66+2</td>\n      <td>66+2</td>\n      <td>66+2</td>\n      <td>68+2</td>\n      <td>63+2</td>\n      <td>52+2</td>\n      <td>52+2</td>\n      <td>52+2</td>\n      <td>63+2</td>\n    </tr>\n    <tr>\n      <th>1</th>\n      <td>20801</td>\n      <td>https://sofifa.com/player/20801/c-ronaldo-dos-...</td>\n      <td>Cristiano Ronaldo</td>\n      <td>Cristiano Ronaldo dos Santos Aveiro</td>\n      <td>34</td>\n      <td>1985-02-05</td>\n      <td>187</td>\n      <td>83</td>\n      <td>Portugal</td>\n      <td>Juventus</td>\n      <td>...</td>\n      <td>65+3</td>\n      <td>61+3</td>\n      <td>61+3</td>\n      <td>61+3</td>\n      <td>65+3</td>\n      <td>61+3</td>\n      <td>53+3</td>\n      <td>53+3</td>\n      <td>53+3</td>\n      <td>61+3</td>\n    </tr>\n    <tr>\n      <th>2</th>\n      <td>190871</td>\n      <td>https://sofifa.com/player/190871/neymar-da-sil...</td>\n      <td>Neymar Jr</td>\n      <td>Neymar da Silva Santos Junior</td>\n      <td>27</td>\n      <td>1992-02-05</td>\n      <td>175</td>\n      <td>68</td>\n      <td>Brazil</td>\n      <td>Paris Saint-Germain</td>\n      <td>...</td>\n      <td>66+3</td>\n      <td>61+3</td>\n      <td>61+3</td>\n      <td>61+3</td>\n      <td>66+3</td>\n      <td>61+3</td>\n      <td>46+3</td>\n      <td>46+3</td>\n      <td>46+3</td>\n      <td>61+3</td>\n    </tr>\n    <tr>\n      <th>3</th>\n      <td>200389</td>\n      <td>https://sofifa.com/player/200389/jan-oblak/20/...</td>\n      <td>J. Oblak</td>\n      <td>Jan Oblak</td>\n      <td>26</td>\n      <td>1993-01-07</td>\n      <td>188</td>\n      <td>87</td>\n      <td>Slovenia</td>\n      <td>Atlético Madrid</td>\n      <td>...</td>\n      <td>NaN</td>\n      <td>NaN</td>\n      <td>NaN</td>\n      <td>NaN</td>\n      <td>NaN</td>\n      <td>NaN</td>\n      <td>NaN</td>\n      <td>NaN</td>\n      <td>NaN</td>\n      <td>NaN</td>\n    </tr>\n    <tr>\n      <th>4</th>\n      <td>183277</td>\n      <td>https://sofifa.com/player/183277/eden-hazard/2...</td>\n      <td>E. Hazard</td>\n      <td>Eden Hazard</td>\n      <td>28</td>\n      <td>1991-01-07</td>\n      <td>175</td>\n      <td>74</td>\n      <td>Belgium</td>\n      <td>Real Madrid</td>\n      <td>...</td>\n      <td>66+3</td>\n      <td>63+3</td>\n      <td>63+3</td>\n      <td>63+3</td>\n      <td>66+3</td>\n      <td>61+3</td>\n      <td>49+3</td>\n      <td>49+3</td>\n      <td>49+3</td>\n      <td>61+3</td>\n    </tr>\n    <tr>\n      <th>...</th>\n      <td>...</td>\n      <td>...</td>\n      <td>...</td>\n      <td>...</td>\n      <td>...</td>\n      <td>...</td>\n      <td>...</td>\n      <td>...</td>\n      <td>...</td>\n      <td>...</td>\n      <td>...</td>\n      <td>...</td>\n      <td>...</td>\n      <td>...</td>\n      <td>...</td>\n      <td>...</td>\n      <td>...</td>\n      <td>...</td>\n      <td>...</td>\n      <td>...</td>\n      <td>...</td>\n    </tr>\n    <tr>\n      <th>18273</th>\n      <td>245006</td>\n      <td>https://sofifa.com/player/245006/shuai-shao/20...</td>\n      <td>Shao Shuai</td>\n      <td>邵帅</td>\n      <td>22</td>\n      <td>1997-03-10</td>\n      <td>186</td>\n      <td>79</td>\n      <td>China PR</td>\n      <td>Beijing Renhe FC</td>\n      <td>...</td>\n      <td>43+2</td>\n      <td>42+2</td>\n      <td>42+2</td>\n      <td>42+2</td>\n      <td>43+2</td>\n      <td>45+2</td>\n      <td>46+2</td>\n      <td>46+2</td>\n      <td>46+2</td>\n      <td>45+2</td>\n    </tr>\n    <tr>\n      <th>18274</th>\n      <td>250995</td>\n      <td>https://sofifa.com/player/250995/mingjie-xiao/...</td>\n      <td>Xiao Mingjie</td>\n      <td>Mingjie Xiao</td>\n      <td>22</td>\n      <td>1997-01-01</td>\n      <td>177</td>\n      <td>66</td>\n      <td>China PR</td>\n      <td>Shanghai SIPG FC</td>\n      <td>...</td>\n      <td>44+2</td>\n      <td>43+2</td>\n      <td>43+2</td>\n      <td>43+2</td>\n      <td>44+2</td>\n      <td>46+2</td>\n      <td>47+2</td>\n      <td>47+2</td>\n      <td>47+2</td>\n      <td>46+2</td>\n    </tr>\n    <tr>\n      <th>18275</th>\n      <td>252332</td>\n      <td>https://sofifa.com/player/252332/wei-zhang/20/...</td>\n      <td>Zhang Wei</td>\n      <td>张威</td>\n      <td>19</td>\n      <td>2000-05-16</td>\n      <td>186</td>\n      <td>75</td>\n      <td>China PR</td>\n      <td>Hebei China Fortune FC</td>\n      <td>...</td>\n      <td>47+2</td>\n      <td>49+2</td>\n      <td>49+2</td>\n      <td>49+2</td>\n      <td>47+2</td>\n      <td>47+2</td>\n      <td>49+2</td>\n      <td>49+2</td>\n      <td>49+2</td>\n      <td>47+2</td>\n    </tr>\n    <tr>\n      <th>18276</th>\n      <td>251110</td>\n      <td>https://sofifa.com/player/251110/haijian-wang/...</td>\n      <td>Wang Haijian</td>\n      <td>汪海健</td>\n      <td>18</td>\n      <td>2000-08-02</td>\n      <td>185</td>\n      <td>74</td>\n      <td>China PR</td>\n      <td>Shanghai Greenland Shenhua FC</td>\n      <td>...</td>\n      <td>48+2</td>\n      <td>48+2</td>\n      <td>48+2</td>\n      <td>48+2</td>\n      <td>48+2</td>\n      <td>48+2</td>\n      <td>49+2</td>\n      <td>49+2</td>\n      <td>49+2</td>\n      <td>48+2</td>\n    </tr>\n    <tr>\n      <th>18277</th>\n      <td>233449</td>\n      <td>https://sofifa.com/player/233449/ximing-pan/20...</td>\n      <td>Pan Ximing</td>\n      <td>潘喜明</td>\n      <td>26</td>\n      <td>1993-01-11</td>\n      <td>182</td>\n      <td>78</td>\n      <td>China PR</td>\n      <td>Hebei China Fortune FC</td>\n      <td>...</td>\n      <td>48+2</td>\n      <td>49+2</td>\n      <td>49+2</td>\n      <td>49+2</td>\n      <td>48+2</td>\n      <td>48+2</td>\n      <td>50+2</td>\n      <td>50+2</td>\n      <td>50+2</td>\n      <td>48+2</td>\n    </tr>\n  </tbody>\n</table>\n<p>18278 rows × 104 columns</p>\n</div>"
     },
     "execution_count": 2,
     "metadata": {},
     "output_type": "execute_result"
    }
   ]
  },
  {
   "cell_type": "code",
   "metadata": {
    "colab": {
     "base_uri": "https://localhost:8080/"
    },
    "id": "TDxXkiukYods",
    "outputId": "790a9c92-d884-4db0-b740-7701905f804d"
   },
   "source": [],
   "execution_count": 2,
   "outputs": []
  },
  {
   "cell_type": "code",
   "metadata": {
    "colab": {
     "base_uri": "https://localhost:8080/"
    },
    "id": "InPLZmAbXZJ7",
    "outputId": "e89f2798-87f0-4dcf-cdae-6df54dd3e954"
   },
   "source": [
    "##FIND INDEX OF THE COLUMNS\n",
    "{fifatest.columns.get_loc(col):col for col in  fifatest.columns}"
   ],
   "execution_count": 3,
   "outputs": [
    {
     "data": {
      "text/plain": "{0: 'sofifa_id',\n 1: 'player_url',\n 2: 'short_name',\n 3: 'long_name',\n 4: 'age',\n 5: 'dob',\n 6: 'height_cm',\n 7: 'weight_kg',\n 8: 'nationality',\n 9: 'club',\n 10: 'overall',\n 11: 'potential',\n 12: 'value_eur',\n 13: 'wage_eur',\n 14: 'player_positions',\n 15: 'preferred_foot',\n 16: 'international_reputation',\n 17: 'weak_foot',\n 18: 'skill_moves',\n 19: 'work_rate',\n 20: 'body_type',\n 21: 'real_face',\n 22: 'release_clause_eur',\n 23: 'player_tags',\n 24: 'team_position',\n 25: 'team_jersey_number',\n 26: 'loaned_from',\n 27: 'joined',\n 28: 'contract_valid_until',\n 29: 'nation_position',\n 30: 'nation_jersey_number',\n 31: 'pace',\n 32: 'shooting',\n 33: 'passing',\n 34: 'dribbling',\n 35: 'defending',\n 36: 'physic',\n 37: 'gk_diving',\n 38: 'gk_handling',\n 39: 'gk_kicking',\n 40: 'gk_reflexes',\n 41: 'gk_speed',\n 42: 'gk_positioning',\n 43: 'player_traits',\n 44: 'attacking_crossing',\n 45: 'attacking_finishing',\n 46: 'attacking_heading_accuracy',\n 47: 'attacking_short_passing',\n 48: 'attacking_volleys',\n 49: 'skill_dribbling',\n 50: 'skill_curve',\n 51: 'skill_fk_accuracy',\n 52: 'skill_long_passing',\n 53: 'skill_ball_control',\n 54: 'movement_acceleration',\n 55: 'movement_sprint_speed',\n 56: 'movement_agility',\n 57: 'movement_reactions',\n 58: 'movement_balance',\n 59: 'power_shot_power',\n 60: 'power_jumping',\n 61: 'power_stamina',\n 62: 'power_strength',\n 63: 'power_long_shots',\n 64: 'mentality_aggression',\n 65: 'mentality_interceptions',\n 66: 'mentality_positioning',\n 67: 'mentality_vision',\n 68: 'mentality_penalties',\n 69: 'mentality_composure',\n 70: 'defending_marking',\n 71: 'defending_standing_tackle',\n 72: 'defending_sliding_tackle',\n 73: 'goalkeeping_diving',\n 74: 'goalkeeping_handling',\n 75: 'goalkeeping_kicking',\n 76: 'goalkeeping_positioning',\n 77: 'goalkeeping_reflexes',\n 78: 'ls',\n 79: 'st',\n 80: 'rs',\n 81: 'lw',\n 82: 'lf',\n 83: 'cf',\n 84: 'rf',\n 85: 'rw',\n 86: 'lam',\n 87: 'cam',\n 88: 'ram',\n 89: 'lm',\n 90: 'lcm',\n 91: 'cm',\n 92: 'rcm',\n 93: 'rm',\n 94: 'lwb',\n 95: 'ldm',\n 96: 'cdm',\n 97: 'rdm',\n 98: 'rwb',\n 99: 'lb',\n 100: 'lcb',\n 101: 'cb',\n 102: 'rcb',\n 103: 'rb'}"
     },
     "execution_count": 3,
     "metadata": {},
     "output_type": "execute_result"
    }
   ]
  },
  {
   "cell_type": "code",
   "metadata": {
    "id": "QIOBkxT3XZJ_"
   },
   "source": [
    "fifatest.drop(fifatest.columns[78:],axis=1,inplace=True)\n",
    "\n"
   ],
   "execution_count": 4,
   "outputs": []
  },
  {
   "cell_type": "code",
   "metadata": {
    "id": "KyfI8FnrXZKC"
   },
   "source": [
    "fifatest.drop(['team_jersey_number','nation_jersey_number','sofifa_id','long_name','nationality','club','release_clause_eur','player_tags', 'team_jersey_number','loaned_from','joined',\n",
    "  'contract_valid_until','nation_jersey_number','mentality_aggression', 'mentality_interceptions', 'mentality_positioning','mentality_penalties'],axis=1,inplace=True)"
   ],
   "execution_count": 5,
   "outputs": []
  },
  {
   "cell_type": "code",
   "metadata": {
    "id": "Nm490qfSXZKD"
   },
   "source": [
    "fifatest.drop(['player_url','wage_eur'],axis = 1,inplace = True)"
   ],
   "execution_count": 6,
   "outputs": []
  },
  {
   "cell_type": "code",
   "metadata": {
    "id": "hJ0e4LfJXZKE"
   },
   "source": [
    "fifatest.drop(['dob'],axis = 1,inplace = True)\n",
    "fifatest.drop(['preferred_foot'],axis = 1,inplace = True)\n"
   ],
   "execution_count": 7,
   "outputs": []
  },
  {
   "cell_type": "code",
   "metadata": {
    "id": "JV1_zoR2XZKF"
   },
   "source": [
    "fifatest.drop(['short_name'],axis = 1,inplace = True)\n"
   ],
   "execution_count": 8,
   "outputs": []
  },
  {
   "cell_type": "code",
   "metadata": {
    "colab": {
     "base_uri": "https://localhost:8080/",
     "height": 617
    },
    "id": "pcyiOR2hXZKG",
    "outputId": "cd167ac7-6369-4b11-cebf-cf0a9e93d17a"
   },
   "source": [
    "fifatest"
   ],
   "execution_count": 9,
   "outputs": [
    {
     "data": {
      "text/plain": "       age  height_cm  weight_kg  overall  potential  value_eur  \\\n0       32        170         72       94         94   95500000   \n1       34        187         83       93         93   58500000   \n2       27        175         68       92         92  105500000   \n3       26        188         87       91         93   77500000   \n4       28        175         74       91         91   90000000   \n...    ...        ...        ...      ...        ...        ...   \n18273   22        186         79       48         56      40000   \n18274   22        177         66       48         56      40000   \n18275   19        186         75       48         56      40000   \n18276   18        185         74       48         54      40000   \n18277   26        182         78       48         51      40000   \n\n      player_positions  international_reputation  weak_foot  skill_moves  ...  \\\n0           RW, CF, ST                         5          4            4  ...   \n1               ST, LW                         5          4            5  ...   \n2              LW, CAM                         5          5            5  ...   \n3                   GK                         3          3            1  ...   \n4               LW, CF                         4          4            4  ...   \n...                ...                       ...        ...          ...  ...   \n18273               CB                         1          3            2  ...   \n18274               CB                         1          2            2  ...   \n18275               CM                         1          2            2  ...   \n18276               CM                         1          2            2  ...   \n18277               CM                         1          3            2  ...   \n\n      mentality_vision mentality_composure defending_marking  \\\n0                   94                  96                33   \n1                   82                  95                28   \n2                   90                  94                27   \n3                   65                  68                27   \n4                   89                  91                34   \n...                ...                 ...               ...   \n18273               25                  41                45   \n18274               25                  35                42   \n18275               38                  39                46   \n18276               48                  40                39   \n18277               52                  42                52   \n\n      defending_standing_tackle defending_sliding_tackle  goalkeeping_diving  \\\n0                            37                       26                   6   \n1                            32                       24                   7   \n2                            26                       29                   9   \n3                            12                       18                  87   \n4                            27                       22                  11   \n...                         ...                      ...                 ...   \n18273                        50                       52                   5   \n18274                        53                       57                  13   \n18275                        52                       46                   7   \n18276                        44                       54                  14   \n18277                        42                       48                   8   \n\n       goalkeeping_handling  goalkeeping_kicking  goalkeeping_positioning  \\\n0                        11                   15                       14   \n1                        11                   15                       14   \n2                         9                   15                       15   \n3                        92                   78                       90   \n4                        12                    6                        8   \n...                     ...                  ...                      ...   \n18273                     5                   13                        5   \n18274                     6                   14                       11   \n18275                     8                   10                        6   \n18276                     9                   13                       13   \n18277                    12                   14                        9   \n\n       goalkeeping_reflexes  \n0                         8  \n1                        11  \n2                        11  \n3                        89  \n4                         8  \n...                     ...  \n18273                    14  \n18274                     9  \n18275                    14  \n18276                    13  \n18277                    10  \n\n[18278 rows x 58 columns]",
      "text/html": "<div>\n<style scoped>\n    .dataframe tbody tr th:only-of-type {\n        vertical-align: middle;\n    }\n\n    .dataframe tbody tr th {\n        vertical-align: top;\n    }\n\n    .dataframe thead th {\n        text-align: right;\n    }\n</style>\n<table border=\"1\" class=\"dataframe\">\n  <thead>\n    <tr style=\"text-align: right;\">\n      <th></th>\n      <th>age</th>\n      <th>height_cm</th>\n      <th>weight_kg</th>\n      <th>overall</th>\n      <th>potential</th>\n      <th>value_eur</th>\n      <th>player_positions</th>\n      <th>international_reputation</th>\n      <th>weak_foot</th>\n      <th>skill_moves</th>\n      <th>...</th>\n      <th>mentality_vision</th>\n      <th>mentality_composure</th>\n      <th>defending_marking</th>\n      <th>defending_standing_tackle</th>\n      <th>defending_sliding_tackle</th>\n      <th>goalkeeping_diving</th>\n      <th>goalkeeping_handling</th>\n      <th>goalkeeping_kicking</th>\n      <th>goalkeeping_positioning</th>\n      <th>goalkeeping_reflexes</th>\n    </tr>\n  </thead>\n  <tbody>\n    <tr>\n      <th>0</th>\n      <td>32</td>\n      <td>170</td>\n      <td>72</td>\n      <td>94</td>\n      <td>94</td>\n      <td>95500000</td>\n      <td>RW, CF, ST</td>\n      <td>5</td>\n      <td>4</td>\n      <td>4</td>\n      <td>...</td>\n      <td>94</td>\n      <td>96</td>\n      <td>33</td>\n      <td>37</td>\n      <td>26</td>\n      <td>6</td>\n      <td>11</td>\n      <td>15</td>\n      <td>14</td>\n      <td>8</td>\n    </tr>\n    <tr>\n      <th>1</th>\n      <td>34</td>\n      <td>187</td>\n      <td>83</td>\n      <td>93</td>\n      <td>93</td>\n      <td>58500000</td>\n      <td>ST, LW</td>\n      <td>5</td>\n      <td>4</td>\n      <td>5</td>\n      <td>...</td>\n      <td>82</td>\n      <td>95</td>\n      <td>28</td>\n      <td>32</td>\n      <td>24</td>\n      <td>7</td>\n      <td>11</td>\n      <td>15</td>\n      <td>14</td>\n      <td>11</td>\n    </tr>\n    <tr>\n      <th>2</th>\n      <td>27</td>\n      <td>175</td>\n      <td>68</td>\n      <td>92</td>\n      <td>92</td>\n      <td>105500000</td>\n      <td>LW, CAM</td>\n      <td>5</td>\n      <td>5</td>\n      <td>5</td>\n      <td>...</td>\n      <td>90</td>\n      <td>94</td>\n      <td>27</td>\n      <td>26</td>\n      <td>29</td>\n      <td>9</td>\n      <td>9</td>\n      <td>15</td>\n      <td>15</td>\n      <td>11</td>\n    </tr>\n    <tr>\n      <th>3</th>\n      <td>26</td>\n      <td>188</td>\n      <td>87</td>\n      <td>91</td>\n      <td>93</td>\n      <td>77500000</td>\n      <td>GK</td>\n      <td>3</td>\n      <td>3</td>\n      <td>1</td>\n      <td>...</td>\n      <td>65</td>\n      <td>68</td>\n      <td>27</td>\n      <td>12</td>\n      <td>18</td>\n      <td>87</td>\n      <td>92</td>\n      <td>78</td>\n      <td>90</td>\n      <td>89</td>\n    </tr>\n    <tr>\n      <th>4</th>\n      <td>28</td>\n      <td>175</td>\n      <td>74</td>\n      <td>91</td>\n      <td>91</td>\n      <td>90000000</td>\n      <td>LW, CF</td>\n      <td>4</td>\n      <td>4</td>\n      <td>4</td>\n      <td>...</td>\n      <td>89</td>\n      <td>91</td>\n      <td>34</td>\n      <td>27</td>\n      <td>22</td>\n      <td>11</td>\n      <td>12</td>\n      <td>6</td>\n      <td>8</td>\n      <td>8</td>\n    </tr>\n    <tr>\n      <th>...</th>\n      <td>...</td>\n      <td>...</td>\n      <td>...</td>\n      <td>...</td>\n      <td>...</td>\n      <td>...</td>\n      <td>...</td>\n      <td>...</td>\n      <td>...</td>\n      <td>...</td>\n      <td>...</td>\n      <td>...</td>\n      <td>...</td>\n      <td>...</td>\n      <td>...</td>\n      <td>...</td>\n      <td>...</td>\n      <td>...</td>\n      <td>...</td>\n      <td>...</td>\n      <td>...</td>\n    </tr>\n    <tr>\n      <th>18273</th>\n      <td>22</td>\n      <td>186</td>\n      <td>79</td>\n      <td>48</td>\n      <td>56</td>\n      <td>40000</td>\n      <td>CB</td>\n      <td>1</td>\n      <td>3</td>\n      <td>2</td>\n      <td>...</td>\n      <td>25</td>\n      <td>41</td>\n      <td>45</td>\n      <td>50</td>\n      <td>52</td>\n      <td>5</td>\n      <td>5</td>\n      <td>13</td>\n      <td>5</td>\n      <td>14</td>\n    </tr>\n    <tr>\n      <th>18274</th>\n      <td>22</td>\n      <td>177</td>\n      <td>66</td>\n      <td>48</td>\n      <td>56</td>\n      <td>40000</td>\n      <td>CB</td>\n      <td>1</td>\n      <td>2</td>\n      <td>2</td>\n      <td>...</td>\n      <td>25</td>\n      <td>35</td>\n      <td>42</td>\n      <td>53</td>\n      <td>57</td>\n      <td>13</td>\n      <td>6</td>\n      <td>14</td>\n      <td>11</td>\n      <td>9</td>\n    </tr>\n    <tr>\n      <th>18275</th>\n      <td>19</td>\n      <td>186</td>\n      <td>75</td>\n      <td>48</td>\n      <td>56</td>\n      <td>40000</td>\n      <td>CM</td>\n      <td>1</td>\n      <td>2</td>\n      <td>2</td>\n      <td>...</td>\n      <td>38</td>\n      <td>39</td>\n      <td>46</td>\n      <td>52</td>\n      <td>46</td>\n      <td>7</td>\n      <td>8</td>\n      <td>10</td>\n      <td>6</td>\n      <td>14</td>\n    </tr>\n    <tr>\n      <th>18276</th>\n      <td>18</td>\n      <td>185</td>\n      <td>74</td>\n      <td>48</td>\n      <td>54</td>\n      <td>40000</td>\n      <td>CM</td>\n      <td>1</td>\n      <td>2</td>\n      <td>2</td>\n      <td>...</td>\n      <td>48</td>\n      <td>40</td>\n      <td>39</td>\n      <td>44</td>\n      <td>54</td>\n      <td>14</td>\n      <td>9</td>\n      <td>13</td>\n      <td>13</td>\n      <td>13</td>\n    </tr>\n    <tr>\n      <th>18277</th>\n      <td>26</td>\n      <td>182</td>\n      <td>78</td>\n      <td>48</td>\n      <td>51</td>\n      <td>40000</td>\n      <td>CM</td>\n      <td>1</td>\n      <td>3</td>\n      <td>2</td>\n      <td>...</td>\n      <td>52</td>\n      <td>42</td>\n      <td>52</td>\n      <td>42</td>\n      <td>48</td>\n      <td>8</td>\n      <td>12</td>\n      <td>14</td>\n      <td>9</td>\n      <td>10</td>\n    </tr>\n  </tbody>\n</table>\n<p>18278 rows × 58 columns</p>\n</div>"
     },
     "execution_count": 9,
     "metadata": {},
     "output_type": "execute_result"
    }
   ]
  },
  {
   "cell_type": "code",
   "metadata": {
    "colab": {
     "base_uri": "https://localhost:8080/"
    },
    "id": "CHgfrBwzXZKI",
    "outputId": "d07213ae-58c7-41cf-ca79-fbd49d159dbf"
   },
   "source": [
    "fifatest.info()"
   ],
   "execution_count": 10,
   "outputs": [
    {
     "name": "stdout",
     "output_type": "stream",
     "text": [
      "<class 'pandas.core.frame.DataFrame'>\n",
      "RangeIndex: 18278 entries, 0 to 18277\n",
      "Data columns (total 58 columns):\n",
      " #   Column                      Non-Null Count  Dtype  \n",
      "---  ------                      --------------  -----  \n",
      " 0   age                         18278 non-null  int64  \n",
      " 1   height_cm                   18278 non-null  int64  \n",
      " 2   weight_kg                   18278 non-null  int64  \n",
      " 3   overall                     18278 non-null  int64  \n",
      " 4   potential                   18278 non-null  int64  \n",
      " 5   value_eur                   18278 non-null  int64  \n",
      " 6   player_positions            18278 non-null  object \n",
      " 7   international_reputation    18278 non-null  int64  \n",
      " 8   weak_foot                   18278 non-null  int64  \n",
      " 9   skill_moves                 18278 non-null  int64  \n",
      " 10  work_rate                   18278 non-null  object \n",
      " 11  body_type                   18278 non-null  object \n",
      " 12  real_face                   18278 non-null  object \n",
      " 13  team_position               18038 non-null  object \n",
      " 14  nation_position             1126 non-null   object \n",
      " 15  pace                        16242 non-null  float64\n",
      " 16  shooting                    16242 non-null  float64\n",
      " 17  passing                     16242 non-null  float64\n",
      " 18  dribbling                   16242 non-null  float64\n",
      " 19  defending                   16242 non-null  float64\n",
      " 20  physic                      16242 non-null  float64\n",
      " 21  gk_diving                   2036 non-null   float64\n",
      " 22  gk_handling                 2036 non-null   float64\n",
      " 23  gk_kicking                  2036 non-null   float64\n",
      " 24  gk_reflexes                 2036 non-null   float64\n",
      " 25  gk_speed                    2036 non-null   float64\n",
      " 26  gk_positioning              2036 non-null   float64\n",
      " 27  player_traits               7566 non-null   object \n",
      " 28  attacking_crossing          18278 non-null  int64  \n",
      " 29  attacking_finishing         18278 non-null  int64  \n",
      " 30  attacking_heading_accuracy  18278 non-null  int64  \n",
      " 31  attacking_short_passing     18278 non-null  int64  \n",
      " 32  attacking_volleys           18278 non-null  int64  \n",
      " 33  skill_dribbling             18278 non-null  int64  \n",
      " 34  skill_curve                 18278 non-null  int64  \n",
      " 35  skill_fk_accuracy           18278 non-null  int64  \n",
      " 36  skill_long_passing          18278 non-null  int64  \n",
      " 37  skill_ball_control          18278 non-null  int64  \n",
      " 38  movement_acceleration       18278 non-null  int64  \n",
      " 39  movement_sprint_speed       18278 non-null  int64  \n",
      " 40  movement_agility            18278 non-null  int64  \n",
      " 41  movement_reactions          18278 non-null  int64  \n",
      " 42  movement_balance            18278 non-null  int64  \n",
      " 43  power_shot_power            18278 non-null  int64  \n",
      " 44  power_jumping               18278 non-null  int64  \n",
      " 45  power_stamina               18278 non-null  int64  \n",
      " 46  power_strength              18278 non-null  int64  \n",
      " 47  power_long_shots            18278 non-null  int64  \n",
      " 48  mentality_vision            18278 non-null  int64  \n",
      " 49  mentality_composure         18278 non-null  int64  \n",
      " 50  defending_marking           18278 non-null  int64  \n",
      " 51  defending_standing_tackle   18278 non-null  int64  \n",
      " 52  defending_sliding_tackle    18278 non-null  int64  \n",
      " 53  goalkeeping_diving          18278 non-null  int64  \n",
      " 54  goalkeeping_handling        18278 non-null  int64  \n",
      " 55  goalkeeping_kicking         18278 non-null  int64  \n",
      " 56  goalkeeping_positioning     18278 non-null  int64  \n",
      " 57  goalkeeping_reflexes        18278 non-null  int64  \n",
      "dtypes: float64(12), int64(39), object(7)\n",
      "memory usage: 8.1+ MB\n"
     ]
    }
   ]
  },
  {
   "cell_type": "code",
   "metadata": {
    "id": "aQXdNV01XZKJ"
   },
   "source": [
    "fifatest['gk_diving']=fifatest.gk_diving.fillna(fifatest.gk_diving.mean())\n",
    "fifatest['gk_handling']=fifatest.gk_handling.fillna(fifatest.gk_handling.mean())\n",
    "fifatest['gk_kicking']=fifatest.gk_kicking.fillna(fifatest.gk_kicking.mean())\n",
    "fifatest['gk_reflexes']=fifatest.gk_reflexes.fillna(fifatest.gk_reflexes.mean())\n",
    "fifatest['gk_speed']=fifatest.gk_speed.fillna(fifatest.gk_speed.mean())\n",
    "fifatest['gk_positioning']=fifatest.gk_positioning.fillna(fifatest.gk_positioning.mean())\n",
    "fifatest['pace']=fifatest.pace.fillna(fifatest.pace.mean())\n",
    "fifatest['shooting']=fifatest.shooting.fillna(fifatest.shooting.mean())\n",
    "fifatest['passing']=fifatest.passing.fillna(fifatest.passing.mean())\n",
    "fifatest['defending']=fifatest.defending.fillna(fifatest.defending.mean())\n",
    "fifatest['physic']=fifatest.physic.fillna(fifatest.physic.mean())\n",
    "fifatest['dribbling']=fifatest.dribbling.fillna(fifatest.dribbling.mean())"
   ],
   "execution_count": 11,
   "outputs": []
  },
  {
   "cell_type": "code",
   "metadata": {
    "id": "mhCcbh8kXZKL"
   },
   "source": [
    "fifatest['nation_position']=fifatest.nation_position.fillna(fifatest.nation_position.value_counts().index[0])\n",
    "fifatest['team_position']=fifatest.team_position.fillna(fifatest.team_position.value_counts().index[0])"
   ],
   "execution_count": 12,
   "outputs": []
  },
  {
   "cell_type": "code",
   "metadata": {
    "id": "6fze6YbqXZKM"
   },
   "source": [
    "fifatest.player_positions=pd.Categorical(fifatest.player_positions,['CB',\n",
    "'ST',     \n",
    "'CM',     \n",
    "'GK',     \n",
    "'CDM',    \n",
    "'RB',     'LB',   'CAM'    \n",
    "'RM',     \n",
    "'LM',      \n",
    "'LW',      'RW',      \n",
    "'CF',      \n",
    "'LWB',      \n",
    "'RWB'])"
   ],
   "execution_count": 13,
   "outputs": []
  },
  {
   "cell_type": "code",
   "metadata": {
    "id": "kFlbdUwLXZKO"
   },
   "source": [
    "fifatest.player_positions=fifatest.player_positions.cat.codes"
   ],
   "execution_count": 14,
   "outputs": []
  },
  {
   "cell_type": "code",
   "metadata": {
    "colab": {
     "base_uri": "https://localhost:8080/"
    },
    "id": "ZzXEr8oGXZKP",
    "outputId": "c50cf151-df3f-4340-a53a-2a9a00cccd41"
   },
   "source": [
    "fifatest.info()"
   ],
   "execution_count": 15,
   "outputs": [
    {
     "name": "stdout",
     "output_type": "stream",
     "text": [
      "<class 'pandas.core.frame.DataFrame'>\n",
      "RangeIndex: 18278 entries, 0 to 18277\n",
      "Data columns (total 58 columns):\n",
      " #   Column                      Non-Null Count  Dtype  \n",
      "---  ------                      --------------  -----  \n",
      " 0   age                         18278 non-null  int64  \n",
      " 1   height_cm                   18278 non-null  int64  \n",
      " 2   weight_kg                   18278 non-null  int64  \n",
      " 3   overall                     18278 non-null  int64  \n",
      " 4   potential                   18278 non-null  int64  \n",
      " 5   value_eur                   18278 non-null  int64  \n",
      " 6   player_positions            18278 non-null  int8   \n",
      " 7   international_reputation    18278 non-null  int64  \n",
      " 8   weak_foot                   18278 non-null  int64  \n",
      " 9   skill_moves                 18278 non-null  int64  \n",
      " 10  work_rate                   18278 non-null  object \n",
      " 11  body_type                   18278 non-null  object \n",
      " 12  real_face                   18278 non-null  object \n",
      " 13  team_position               18278 non-null  object \n",
      " 14  nation_position             18278 non-null  object \n",
      " 15  pace                        18278 non-null  float64\n",
      " 16  shooting                    18278 non-null  float64\n",
      " 17  passing                     18278 non-null  float64\n",
      " 18  dribbling                   18278 non-null  float64\n",
      " 19  defending                   18278 non-null  float64\n",
      " 20  physic                      18278 non-null  float64\n",
      " 21  gk_diving                   18278 non-null  float64\n",
      " 22  gk_handling                 18278 non-null  float64\n",
      " 23  gk_kicking                  18278 non-null  float64\n",
      " 24  gk_reflexes                 18278 non-null  float64\n",
      " 25  gk_speed                    18278 non-null  float64\n",
      " 26  gk_positioning              18278 non-null  float64\n",
      " 27  player_traits               7566 non-null   object \n",
      " 28  attacking_crossing          18278 non-null  int64  \n",
      " 29  attacking_finishing         18278 non-null  int64  \n",
      " 30  attacking_heading_accuracy  18278 non-null  int64  \n",
      " 31  attacking_short_passing     18278 non-null  int64  \n",
      " 32  attacking_volleys           18278 non-null  int64  \n",
      " 33  skill_dribbling             18278 non-null  int64  \n",
      " 34  skill_curve                 18278 non-null  int64  \n",
      " 35  skill_fk_accuracy           18278 non-null  int64  \n",
      " 36  skill_long_passing          18278 non-null  int64  \n",
      " 37  skill_ball_control          18278 non-null  int64  \n",
      " 38  movement_acceleration       18278 non-null  int64  \n",
      " 39  movement_sprint_speed       18278 non-null  int64  \n",
      " 40  movement_agility            18278 non-null  int64  \n",
      " 41  movement_reactions          18278 non-null  int64  \n",
      " 42  movement_balance            18278 non-null  int64  \n",
      " 43  power_shot_power            18278 non-null  int64  \n",
      " 44  power_jumping               18278 non-null  int64  \n",
      " 45  power_stamina               18278 non-null  int64  \n",
      " 46  power_strength              18278 non-null  int64  \n",
      " 47  power_long_shots            18278 non-null  int64  \n",
      " 48  mentality_vision            18278 non-null  int64  \n",
      " 49  mentality_composure         18278 non-null  int64  \n",
      " 50  defending_marking           18278 non-null  int64  \n",
      " 51  defending_standing_tackle   18278 non-null  int64  \n",
      " 52  defending_sliding_tackle    18278 non-null  int64  \n",
      " 53  goalkeeping_diving          18278 non-null  int64  \n",
      " 54  goalkeeping_handling        18278 non-null  int64  \n",
      " 55  goalkeeping_kicking         18278 non-null  int64  \n",
      " 56  goalkeeping_positioning     18278 non-null  int64  \n",
      " 57  goalkeeping_reflexes        18278 non-null  int64  \n",
      "dtypes: float64(12), int64(39), int8(1), object(6)\n",
      "memory usage: 8.0+ MB\n"
     ]
    }
   ]
  },
  {
   "cell_type": "code",
   "metadata": {
    "id": "YgHoD3HcXZKQ"
   },
   "source": [],
   "execution_count": 15,
   "outputs": []
  },
  {
   "cell_type": "code",
   "metadata": {
    "colab": {
     "base_uri": "https://localhost:8080/",
     "height": 1000
    },
    "id": "AqHiabecXZKR",
    "outputId": "9fff272a-bf59-4180-9ca8-389a5d7bd307"
   },
   "source": [
    "corr_matrix = fifatest.corr()\n",
    "\n",
    "corr_matrix['overall'].sort_values(ascending = True).plot.barh(figsize=(20,30))"
   ],
   "execution_count": 16,
   "outputs": [
    {
     "data": {
      "text/plain": "<AxesSubplot:>"
     },
     "execution_count": 16,
     "metadata": {},
     "output_type": "execute_result"
    },
    {
     "data": {
      "text/plain": "<Figure size 1440x2160 with 1 Axes>",
      "image/png": "[encoded data removed]"
     },
     "metadata": {},
     "output_type": "display_data"
    }
   ]
  },
  {
   "cell_type": "code",
   "metadata": {
    "id": "pgYveuNeXZKR"
   },
   "source": [],
   "execution_count": 16,
   "outputs": []
  },
  {
   "cell_type": "code",
   "metadata": {
    "id": "dUUKuruDXZKS"
   },
   "source": [
    "y = fifatest.overall\n",
    "feature_columns = ['movement_reactions','potential','value_eur','power_shot_power','attacking_short_passing','skill_long_passing','passing',  'dribbling','player_positions','attacking_volleys','mentality_composure','mentality_vision','physic']\n",
    "\n",
    "X = fifatest[feature_columns]\n",
    "#feature_columns = ['Best Overall Rating','Reactions','Composure','Potential','ShortPassing','ShotPower','Dribbling'"
   ],
   "execution_count": 17,
   "outputs": []
  },
  {
   "cell_type": "code",
   "metadata": {
    "colab": {
     "base_uri": "https://localhost:8080/"
    },
    "id": "oyK0QTEUXZKT",
    "outputId": "0551daac-c1aa-4632-fba2-55d7dc435157"
   },
   "source": [
    "scaler = StandardScaler()\n",
    "scaler.fit_transform(X)\n"
   ],
   "execution_count": 18,
   "outputs": [
    {
     "data": {
      "text/plain": "array([[ 3.63942377,  3.65715595, 16.65362498, ...,  3.15400647,\n         2.89427041,  0.12209709],\n       [ 3.7488885 ,  3.49427626, 10.02912625, ...,  3.06983504,\n         2.03437862,  1.42641116],\n       [ 3.31102959,  3.33139658, 18.44403004, ...,  2.98566361,\n         2.60763982, -0.74744563],\n       ...,\n       [-1.0675596 , -2.53227203, -0.43758174, ..., -1.64376521,\n        -1.11855795, -1.50829551],\n       [-0.84863014, -2.8580314 , -0.43758174, ..., -1.55959378,\n        -0.40198146, -1.39960267],\n       [-1.39595378, -3.34667045, -0.43758174, ..., -1.39125091,\n        -0.11535086, -1.07352415]])"
     },
     "execution_count": 18,
     "metadata": {},
     "output_type": "execute_result"
    }
   ]
  },
  {
   "cell_type": "code",
   "metadata": {
    "id": "ToHibVdgXZKT"
   },
   "source": [],
   "execution_count": 18,
   "outputs": []
  },
  {
   "cell_type": "code",
   "metadata": {
    "colab": {
     "base_uri": "https://localhost:8080/"
    },
    "id": "bXZGbZbAXZKU",
    "outputId": "13627236-36c6-4eec-f2a0-19e2665dc4de"
   },
   "source": [
    "X.info()"
   ],
   "execution_count": 19,
   "outputs": [
    {
     "name": "stdout",
     "output_type": "stream",
     "text": [
      "<class 'pandas.core.frame.DataFrame'>\n",
      "RangeIndex: 18278 entries, 0 to 18277\n",
      "Data columns (total 13 columns):\n",
      " #   Column                   Non-Null Count  Dtype  \n",
      "---  ------                   --------------  -----  \n",
      " 0   movement_reactions       18278 non-null  int64  \n",
      " 1   potential                18278 non-null  int64  \n",
      " 2   value_eur                18278 non-null  int64  \n",
      " 3   power_shot_power         18278 non-null  int64  \n",
      " 4   attacking_short_passing  18278 non-null  int64  \n",
      " 5   skill_long_passing       18278 non-null  int64  \n",
      " 6   passing                  18278 non-null  float64\n",
      " 7   dribbling                18278 non-null  float64\n",
      " 8   player_positions         18278 non-null  int8   \n",
      " 9   attacking_volleys        18278 non-null  int64  \n",
      " 10  mentality_composure      18278 non-null  int64  \n",
      " 11  mentality_vision         18278 non-null  int64  \n",
      " 12  physic                   18278 non-null  float64\n",
      "dtypes: float64(3), int64(9), int8(1)\n",
      "memory usage: 1.7 MB\n"
     ]
    }
   ]
  },
  {
   "cell_type": "code",
   "metadata": {
    "id": "Y3e554xnXZKU"
   },
   "source": [
    "#Splitting dataset(Random state ensures same split everytime)\n",
    "from sklearn.model_selection import train_test_split\n",
    "train_X, val_X, train_y, val_y = train_test_split(X, y,test_size=0.2, random_state = 0)"
   ],
   "execution_count": 20,
   "outputs": []
  },
  {
   "cell_type": "code",
   "metadata": {
    "colab": {
     "base_uri": "https://localhost:8080/"
    },
    "id": "nVEssneyXZKV",
    "outputId": "d5e954eb-2e7b-4263-af62-98c5c13a95d7"
   },
   "source": [
    "col = train_X.columns[train_X.columns.duplicated()]\n",
    "col"
   ],
   "execution_count": 21,
   "outputs": [
    {
     "data": {
      "text/plain": "Index([], dtype='object')"
     },
     "execution_count": 21,
     "metadata": {},
     "output_type": "execute_result"
    }
   ]
  },
  {
   "cell_type": "code",
   "metadata": {
    "colab": {
     "base_uri": "https://localhost:8080/"
    },
    "id": "dTuRzRZuXZKW",
    "outputId": "8ea0af99-d318-49ed-faa7-56067e00551d"
   },
   "source": [
    "from sklearn.metrics import mean_absolute_error\n",
    "from sklearn.ensemble import RandomForestRegressor\n",
    "model = RandomForestRegressor(n_estimators=1)\n",
    "model.fit(train_X, train_y)\n",
    "preds = model.predict(val_X)\n",
    "print(mean_absolute_error(val_y, preds))"
   ],
   "execution_count": 23,
   "outputs": [
    {
     "name": "stdout",
     "output_type": "stream",
     "text": [
      "0.7007658643326039\n"
     ]
    }
   ]
  },
  {
   "cell_type": "code",
   "metadata": {
    "colab": {
     "base_uri": "https://localhost:8080/"
    },
    "id": "YQ05p8ODPSAD",
    "outputId": "e661156c-16a6-4bbf-a155-36dd8cf0d042"
   },
   "source": [
    "predictions = model.predict(val_X)\n",
    "print(\"The predictions are\")\n",
    "print(model.predict(X.head(10)))"
   ],
   "execution_count": 24,
   "outputs": [
    {
     "name": "stdout",
     "output_type": "stream",
     "text": [
      "The predictions are\n",
      "[92. 93. 92. 91. 91. 90. 90. 90. 85. 91.]\n"
     ]
    }
   ]
  },
  {
   "cell_type": "code",
   "metadata": {
    "colab": {
     "base_uri": "https://localhost:8080/"
    },
    "id": "RSRL6hCMOyMp",
    "outputId": "5c16418b-fe8c-45d4-b31a-a968f98546fd"
   },
   "source": [
    "from sklearn.model_selection import GridSearchCV\n",
    "param_grid = [\n",
    "{'n_estimators': [50,100,500], 'max_features': [2, 8,10,50, 100],'random_state':[50, 100,200,],\n",
    " 'max_depth':[20, 50, 100, 500,],\n",
    "},\n",
    "\n",
    "]\n",
    "model = RandomForestRegressor()\n",
    "grid_search = GridSearchCV(model, param_grid, cv=5,\n",
    "scoring='neg_mean_squared_error',\n",
    "return_train_score=True)\n",
    "grid_search.fit(train_X, train_y)"
   ],
   "execution_count": null,
   "outputs": [
    {
     "data": {
      "text/plain": [
       "GridSearchCV(cv=5, estimator=RandomForestRegressor(),\n",
       "             param_grid=[{'max_depth': [20, 50, 100, 500],\n",
       "                          'max_features': [2, 8, 10, 50, 100],\n",
       "                          'n_estimators': [50, 100, 500],\n",
       "                          'random_state': [50, 100, 200]}],\n",
       "             return_train_score=True, scoring='neg_mean_squared_error')"
      ]
     },
     "execution_count": 70,
     "metadata": {},
     "output_type": "execute_result"
    }
   ]
  },
  {
   "cell_type": "code",
   "metadata": {
    "colab": {
     "background_save": true
    },
    "id": "gd_5dCIDXZKY",
    "outputId": "5e8df83f-2358-4202-b9be-ec013a664137"
   },
   "source": [
    "\n",
    "grid_search.best_params_\n"
   ],
   "execution_count": null,
   "outputs": [
    {
     "data": {
      "text/plain": [
       "{'max_depth': 50, 'max_features': 8, 'n_estimators': 500, 'random_state': 200}"
      ]
     },
     "execution_count": null,
     "metadata": {},
     "output_type": "execute_result"
    }
   ]
  },
  {
   "cell_type": "code",
   "metadata": {
    "colab": {
     "base_uri": "https://localhost:8080/"
    },
    "id": "c23ICfihXZKZ",
    "outputId": "e2619104-da09-4b84-eafb-93227fdd80b3"
   },
   "source": [],
   "execution_count": null,
   "outputs": [
    {
     "name": "stdout",
     "output_type": "stream",
     "text": [
      "0.6931072210065645\n"
     ]
    }
   ]
  },
  {
   "cell_type": "code",
   "metadata": {
    "id": "BGt1az9YXZKa"
   },
   "source": [],
   "execution_count": null,
   "outputs": []
  },
  {
   "cell_type": "code",
   "metadata": {
    "id": "VOovCwG3XZKb"
   },
   "source": [],
   "execution_count": null,
   "outputs": []
  },
  {
   "cell_type": "code",
   "metadata": {
    "id": "cHGrD9zzXZKc"
   },
   "source": [],
   "execution_count": null,
   "outputs": []
  },
  {
   "cell_type": "code",
   "metadata": {
    "colab": {
     "base_uri": "https://localhost:8080/"
    },
    "id": "tpsaFsiYXZKd",
    "outputId": "f03503a6-dbd6-4d71-947f-3f203a317d2d"
   },
   "source": [],
   "execution_count": null,
   "outputs": [
    {
     "data": {
      "text/plain": [
       "DecisionTreeRegressor(max_depth=5, max_features='auto',\n",
       "                      min_weight_fraction_leaf=0.1)"
      ]
     },
     "execution_count": 42,
     "metadata": {},
     "output_type": "execute_result"
    }
   ]
  },
  {
   "cell_type": "code",
   "metadata": {
    "colab": {
     "base_uri": "https://localhost:8080/"
    },
    "id": "ErS6lLoZXZKd",
    "outputId": "af0b881b-7bb7-4461-b062-daf35f0b3927"
   },
   "source": [
    "predictions = model.predict(val_X)\n",
    "print(\"The predictions are\")\n",
    "print(model.predict(X.head(10)))\n",
    "\n"
   ],
   "execution_count": 25,
   "outputs": [
    {
     "name": "stdout",
     "output_type": "stream",
     "text": [
      "The predictions are\n",
      "[92. 93. 92. 91. 91. 90. 90. 90. 85. 91.]\n"
     ]
    }
   ]
  },
  {
   "cell_type": "code",
   "metadata": {
    "colab": {
     "base_uri": "https://localhost:8080/"
    },
    "id": "8q41jHkaDOlU",
    "outputId": "7aaea9b6-3aa7-4ba7-feb8-91d5d25c194d"
   },
   "source": [
    "print(mean_absolute_error(val_y, predictions))"
   ],
   "execution_count": 26,
   "outputs": [
    {
     "name": "stdout",
     "output_type": "stream",
     "text": [
      "0.7007658643326039\n"
     ]
    }
   ]
  },
  {
   "cell_type": "code",
   "metadata": {
    "id": "7hDs_RxKXZKe"
   },
   "source": [
    "df = pd.read_csv('./FIFA21_official_data.csv')\n"
   ],
   "execution_count": 27,
   "outputs": []
  },
  {
   "cell_type": "code",
   "metadata": {
    "colab": {
     "base_uri": "https://localhost:8080/"
    },
    "id": "1VURcKuaXZKe",
    "outputId": "26244311-7c0c-45b5-a747-9de5c51dcb3f"
   },
   "source": [
    "df.info()"
   ],
   "execution_count": 28,
   "outputs": [
    {
     "name": "stdout",
     "output_type": "stream",
     "text": [
      "<class 'pandas.core.frame.DataFrame'>\n",
      "RangeIndex: 17108 entries, 0 to 17107\n",
      "Data columns (total 65 columns):\n",
      " #   Column                    Non-Null Count  Dtype  \n",
      "---  ------                    --------------  -----  \n",
      " 0   ID                        17108 non-null  int64  \n",
      " 1   Name                      17108 non-null  object \n",
      " 2   Age                       17108 non-null  int64  \n",
      " 3   Photo                     17108 non-null  object \n",
      " 4   Nationality               17108 non-null  object \n",
      " 5   Flag                      17108 non-null  object \n",
      " 6   Overall                   17108 non-null  int64  \n",
      " 7   Potential                 17108 non-null  int64  \n",
      " 8   Club                      16783 non-null  object \n",
      " 9   Club Logo                 17108 non-null  object \n",
      " 10  Value                     17108 non-null  object \n",
      " 11  Wage                      17108 non-null  object \n",
      " 12  Special                   17108 non-null  int64  \n",
      " 13  Preferred Foot            17108 non-null  object \n",
      " 14  International Reputation  17108 non-null  float64\n",
      " 15  Weak Foot                 17108 non-null  float64\n",
      " 16  Skill Moves               17108 non-null  float64\n",
      " 17  Work Rate                 17108 non-null  object \n",
      " 18  Body Type                 17083 non-null  object \n",
      " 19  Real Face                 17083 non-null  object \n",
      " 20  Position                  17088 non-null  object \n",
      " 21  Jersey Number             17088 non-null  float64\n",
      " 22  Joined                    15659 non-null  object \n",
      " 23  Loaned From               922 non-null    object \n",
      " 24  Contract Valid Until      16612 non-null  object \n",
      " 25  Height                    17108 non-null  object \n",
      " 26  Weight                    17108 non-null  object \n",
      " 27  Crossing                  17108 non-null  float64\n",
      " 28  Finishing                 17108 non-null  float64\n",
      " 29  HeadingAccuracy           17108 non-null  float64\n",
      " 30  ShortPassing              17108 non-null  float64\n",
      " 31  Volleys                   17069 non-null  float64\n",
      " 32  Dribbling                 17108 non-null  float64\n",
      " 33  Curve                     17069 non-null  float64\n",
      " 34  FKAccuracy                17108 non-null  float64\n",
      " 35  LongPassing               17108 non-null  float64\n",
      " 36  BallControl               17108 non-null  float64\n",
      " 37  Acceleration              17108 non-null  float64\n",
      " 38  SprintSpeed               17108 non-null  float64\n",
      " 39  Agility                   17069 non-null  float64\n",
      " 40  Reactions                 17108 non-null  float64\n",
      " 41  Balance                   17069 non-null  float64\n",
      " 42  ShotPower                 17108 non-null  float64\n",
      " 43  Jumping                   17069 non-null  float64\n",
      " 44  Stamina                   17108 non-null  float64\n",
      " 45  Strength                  17108 non-null  float64\n",
      " 46  LongShots                 17108 non-null  float64\n",
      " 47  Aggression                17108 non-null  float64\n",
      " 48  Interceptions             17105 non-null  float64\n",
      " 49  Positioning               17105 non-null  float64\n",
      " 50  Vision                    17069 non-null  float64\n",
      " 51  Penalties                 17108 non-null  float64\n",
      " 52  Composure                 16821 non-null  float64\n",
      " 53  Marking                   942 non-null    float64\n",
      " 54  StandingTackle            17108 non-null  float64\n",
      " 55  SlidingTackle             17069 non-null  float64\n",
      " 56  GKDiving                  17108 non-null  float64\n",
      " 57  GKHandling                17108 non-null  float64\n",
      " 58  GKKicking                 17108 non-null  float64\n",
      " 59  GKPositioning             17108 non-null  float64\n",
      " 60  GKReflexes                17108 non-null  float64\n",
      " 61  Best Position             17108 non-null  object \n",
      " 62  Best Overall Rating       17108 non-null  float64\n",
      " 63  Release Clause            15479 non-null  object \n",
      " 64  DefensiveAwareness        16166 non-null  float64\n",
      "dtypes: float64(40), int64(5), object(20)\n",
      "memory usage: 8.5+ MB\n"
     ]
    }
   ]
  },
  {
   "cell_type": "code",
   "metadata": {
    "id": "IDhTHXODXZKf"
   },
   "source": [
    "\n",
    "feature_columns = ['Best Overall Rating','Reactions','Potential','ShortPassing','ShotPower','Dribbling','Vision','LongPassing','International Reputation', 'Value','Stamina','Marking','Composure','Agility']\n",
    "            "
   ],
   "execution_count": 29,
   "outputs": []
  },
  {
   "cell_type": "code",
   "metadata": {
    "id": "MfRzpeNwXZKf"
   },
   "source": [
    "df = df[feature_columns]"
   ],
   "execution_count": 30,
   "outputs": []
  },
  {
   "cell_type": "code",
   "metadata": {
    "colab": {
     "base_uri": "https://localhost:8080/"
    },
    "id": "ECGej0doXZKg",
    "outputId": "8b366917-1e19-4760-d906-08be4cea3320"
   },
   "source": [
    "df = df.fillna(df.mean())\n",
    "df.info()"
   ],
   "execution_count": 31,
   "outputs": [
    {
     "name": "stdout",
     "output_type": "stream",
     "text": [
      "<class 'pandas.core.frame.DataFrame'>\n",
      "RangeIndex: 17108 entries, 0 to 17107\n",
      "Data columns (total 14 columns):\n",
      " #   Column                    Non-Null Count  Dtype  \n",
      "---  ------                    --------------  -----  \n",
      " 0   Best Overall Rating       17108 non-null  float64\n",
      " 1   Reactions                 17108 non-null  float64\n",
      " 2   Potential                 17108 non-null  int64  \n",
      " 3   ShortPassing              17108 non-null  float64\n",
      " 4   ShotPower                 17108 non-null  float64\n",
      " 5   Dribbling                 17108 non-null  float64\n",
      " 6   Vision                    17108 non-null  float64\n",
      " 7   LongPassing               17108 non-null  float64\n",
      " 8   International Reputation  17108 non-null  float64\n",
      " 9   Value                     17108 non-null  object \n",
      " 10  Stamina                   17108 non-null  float64\n",
      " 11  Marking                   17108 non-null  float64\n",
      " 12  Composure                 17108 non-null  float64\n",
      " 13  Agility                   17108 non-null  float64\n",
      "dtypes: float64(12), int64(1), object(1)\n",
      "memory usage: 1.8+ MB\n"
     ]
    }
   ]
  },
  {
   "cell_type": "code",
   "metadata": {
    "id": "1b8zrWARXZKg"
   },
   "source": [
    "s = (df.dtypes == 'object')\n",
    "object_cols = list(s[s].index)"
   ],
   "execution_count": 32,
   "outputs": []
  },
  {
   "cell_type": "code",
   "metadata": {
    "id": "FRdiVwOSXZKh"
   },
   "source": [
    "from sklearn.preprocessing import OrdinalEncoder\n",
    "ordinal_encoder = OrdinalEncoder()\n",
    "df[object_cols] = ordinal_encoder.fit_transform(df[object_cols])"
   ],
   "execution_count": 33,
   "outputs": []
  },
  {
   "cell_type": "code",
   "metadata": {
    "id": "s3IRh3fvXZKh"
   },
   "source": [
    "y_pred = df['Best Overall Rating']\n",
    "X_pred = df.drop('Best Overall Rating',axis=1)"
   ],
   "execution_count": 34,
   "outputs": []
  },
  {
   "cell_type": "code",
   "metadata": {
    "id": "_lduSCpaXZKh"
   },
   "source": [
    "prediction = model.predict(X_pred)"
   ],
   "execution_count": 35,
   "outputs": []
  },
  {
   "cell_type": "code",
   "metadata": {
    "colab": {
     "base_uri": "https://localhost:8080/"
    },
    "id": "mZkyQ29yXZKi",
    "outputId": "5c529319-9c9f-442d-d6fb-050d8cbe4042"
   },
   "source": [
    "mean_absolute_error(y_pred, prediction)"
   ],
   "execution_count": 36,
   "outputs": [
    {
     "data": {
      "text/plain": "3.2916764086976853"
     },
     "execution_count": 36,
     "metadata": {},
     "output_type": "execute_result"
    }
   ]
  },
  {
   "cell_type": "code",
   "metadata": {
    "id": "6G3jqeoBXZKi"
   },
   "source": [
    "import pickle\n",
    "pickle.dump(model, open('princess.pkl', 'wb'))"
   ],
   "execution_count": 37,
   "outputs": []
  },
  {
   "cell_type": "code",
   "execution_count": null,
   "outputs": [],
   "source": [],
   "metadata": {
    "collapsed": false,
    "pycharm": {
     "name": "#%%\n"
    }
   }
  }
 ]
}